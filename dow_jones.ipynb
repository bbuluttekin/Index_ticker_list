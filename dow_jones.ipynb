{
 "cells": [
  {
   "cell_type": "code",
   "execution_count": 35,
   "metadata": {
    "collapsed": false
   },
   "outputs": [],
   "source": [
    "import requests\n",
    "import urllib2\n",
    "from pattern import web\n",
    "import bs4 as bs\n",
    "import pandas as pd\n",
    "import Quandl as q\n",
    "import numpy as np"
   ]
  },
  {
   "cell_type": "code",
   "execution_count": 2,
   "metadata": {
    "collapsed": true
   },
   "outputs": [],
   "source": [
    "url = \"http://en.wikipedia.org/wiki/Dow_Jones_Industrial_Average#Components\""
   ]
  },
  {
   "cell_type": "code",
   "execution_count": 3,
   "metadata": {
    "collapsed": false
   },
   "outputs": [
    {
     "data": {
      "text/plain": [
       "<Response [200]>"
      ]
     },
     "execution_count": 3,
     "metadata": {},
     "output_type": "execute_result"
    }
   ],
   "source": [
    "html = requests.get(url)\n",
    "html"
   ]
  },
  {
   "cell_type": "code",
   "execution_count": 4,
   "metadata": {
    "collapsed": false
   },
   "outputs": [],
   "source": [
    "tree = web.Element(html.text)"
   ]
  },
  {
   "cell_type": "code",
   "execution_count": 5,
   "metadata": {
    "collapsed": false
   },
   "outputs": [],
   "source": [
    "#for i in range(10, 41):\n",
    "#    print tree('div.mw-content-ltr')[0].by_tag('tr')[i].content\n",
    "    "
   ]
  },
  {
   "cell_type": "code",
   "execution_count": 6,
   "metadata": {
    "collapsed": false
   },
   "outputs": [
    {
     "data": {
      "text/plain": [
       "[u'Company', u'Exchange', u'Symbol', u'Industry', u'Date Added', u'Notes']"
      ]
     },
     "execution_count": 6,
     "metadata": {},
     "output_type": "execute_result"
    }
   ],
   "source": [
    "header = [h.content for h in tree('div.mw-content-ltr')[0].by_tag('tr')[10].by_tag('th')]\n",
    "header"
   ]
  },
  {
   "cell_type": "code",
   "execution_count": 7,
   "metadata": {
    "collapsed": true
   },
   "outputs": [],
   "source": [
    "Company = []\n",
    "Exchange = []\n",
    "Symbol = []\n",
    "Industry = []\n",
    "Date_added = []\n",
    "for i in range(11,41):\n",
    "    line = tree('div.mw-content-ltr')[0].by_tag('tr')[i]\n",
    "    Company.append(line.by_tag('a')[0].content)\n",
    "    Exchange.append(line.by_tag('a')[1].content)\n",
    "    Symbol.append(line.by_tag('a')[2].content)\n",
    "    Industry.append(line.by_tag('a')[3].content)\n",
    "    Date_added.append(line.by_tag('td')[4].content)\n",
    "    "
   ]
  },
  {
   "cell_type": "code",
   "execution_count": 78,
   "metadata": {
    "collapsed": false
   },
   "outputs": [
    {
     "data": {
      "text/plain": [
       "u'3M'"
      ]
     },
     "execution_count": 78,
     "metadata": {},
     "output_type": "execute_result"
    }
   ],
   "source": [
    "tree('div.mw-content-ltr')[0].by_tag('tr')[11].by_tag('a')[0].content"
   ]
  },
  {
   "cell_type": "code",
   "execution_count": 8,
   "metadata": {
    "collapsed": false
   },
   "outputs": [
    {
     "data": {
      "text/html": [
       "<div>\n",
       "<table border=\"1\" class=\"dataframe\">\n",
       "  <thead>\n",
       "    <tr style=\"text-align: right;\">\n",
       "      <th></th>\n",
       "      <th>Company</th>\n",
       "      <th>Date Added</th>\n",
       "      <th>Exchange</th>\n",
       "      <th>Industry</th>\n",
       "      <th>Symbol</th>\n",
       "    </tr>\n",
       "  </thead>\n",
       "  <tbody>\n",
       "    <tr>\n",
       "      <th>0</th>\n",
       "      <td>3M</td>\n",
       "      <td>1976-08-09</td>\n",
       "      <td>NYSE</td>\n",
       "      <td>Conglomerate</td>\n",
       "      <td>MMM</td>\n",
       "    </tr>\n",
       "    <tr>\n",
       "      <th>1</th>\n",
       "      <td>American Express</td>\n",
       "      <td>1982-08-30</td>\n",
       "      <td>NYSE</td>\n",
       "      <td>Consumer finance</td>\n",
       "      <td>AXP</td>\n",
       "    </tr>\n",
       "    <tr>\n",
       "      <th>2</th>\n",
       "      <td>Apple</td>\n",
       "      <td>2015-03-18</td>\n",
       "      <td>NASDAQ</td>\n",
       "      <td>Consumer electronics</td>\n",
       "      <td>AAPL</td>\n",
       "    </tr>\n",
       "    <tr>\n",
       "      <th>3</th>\n",
       "      <td>Boeing</td>\n",
       "      <td>1987-03-12</td>\n",
       "      <td>NYSE</td>\n",
       "      <td>Aerospace</td>\n",
       "      <td>BA</td>\n",
       "    </tr>\n",
       "    <tr>\n",
       "      <th>4</th>\n",
       "      <td>Caterpillar</td>\n",
       "      <td>1991-05-06</td>\n",
       "      <td>NYSE</td>\n",
       "      <td>Construction</td>\n",
       "      <td>CAT</td>\n",
       "    </tr>\n",
       "    <tr>\n",
       "      <th>5</th>\n",
       "      <td>Chevron</td>\n",
       "      <td>2008-02-19</td>\n",
       "      <td>NYSE</td>\n",
       "      <td>Oil &amp;amp; gas</td>\n",
       "      <td>CVX</td>\n",
       "    </tr>\n",
       "    <tr>\n",
       "      <th>6</th>\n",
       "      <td>Cisco Systems</td>\n",
       "      <td>2009-06-08</td>\n",
       "      <td>NASDAQ</td>\n",
       "      <td>Computer networking</td>\n",
       "      <td>CSCO</td>\n",
       "    </tr>\n",
       "    <tr>\n",
       "      <th>7</th>\n",
       "      <td>Coca-Cola</td>\n",
       "      <td>1987-03-12</td>\n",
       "      <td>NYSE</td>\n",
       "      <td>Beverages</td>\n",
       "      <td>KO</td>\n",
       "    </tr>\n",
       "    <tr>\n",
       "      <th>8</th>\n",
       "      <td>DuPont</td>\n",
       "      <td>1935-11-20</td>\n",
       "      <td>NYSE</td>\n",
       "      <td>Chemical industry</td>\n",
       "      <td>DD</td>\n",
       "    </tr>\n",
       "    <tr>\n",
       "      <th>9</th>\n",
       "      <td>ExxonMobil</td>\n",
       "      <td>1928-10-01</td>\n",
       "      <td>NYSE</td>\n",
       "      <td>Oil &amp;amp; gas</td>\n",
       "      <td>XOM</td>\n",
       "    </tr>\n",
       "    <tr>\n",
       "      <th>10</th>\n",
       "      <td>General Electric</td>\n",
       "      <td>1907-11-07</td>\n",
       "      <td>NYSE</td>\n",
       "      <td>Conglomerate</td>\n",
       "      <td>GE</td>\n",
       "    </tr>\n",
       "    <tr>\n",
       "      <th>11</th>\n",
       "      <td>Goldman Sachs</td>\n",
       "      <td>2013-09-20</td>\n",
       "      <td>NYSE</td>\n",
       "      <td>Banking</td>\n",
       "      <td>GS</td>\n",
       "    </tr>\n",
       "    <tr>\n",
       "      <th>12</th>\n",
       "      <td>The Home Depot</td>\n",
       "      <td>1999-11-01</td>\n",
       "      <td>NYSE</td>\n",
       "      <td>Home improvement</td>\n",
       "      <td>HD</td>\n",
       "    </tr>\n",
       "    <tr>\n",
       "      <th>13</th>\n",
       "      <td>Intel</td>\n",
       "      <td>1999-11-01</td>\n",
       "      <td>NASDAQ</td>\n",
       "      <td>Semiconductors</td>\n",
       "      <td>INTC</td>\n",
       "    </tr>\n",
       "    <tr>\n",
       "      <th>14</th>\n",
       "      <td>IBM</td>\n",
       "      <td>1979-06-29</td>\n",
       "      <td>NYSE</td>\n",
       "      <td>Computers</td>\n",
       "      <td>IBM</td>\n",
       "    </tr>\n",
       "    <tr>\n",
       "      <th>15</th>\n",
       "      <td>Johnson &amp;amp; Johnson</td>\n",
       "      <td>1997-03-17</td>\n",
       "      <td>NYSE</td>\n",
       "      <td>Pharmaceuticals</td>\n",
       "      <td>JNJ</td>\n",
       "    </tr>\n",
       "    <tr>\n",
       "      <th>16</th>\n",
       "      <td>JPMorgan Chase</td>\n",
       "      <td>1991-05-06</td>\n",
       "      <td>NYSE</td>\n",
       "      <td>Banking</td>\n",
       "      <td>JPM</td>\n",
       "    </tr>\n",
       "    <tr>\n",
       "      <th>17</th>\n",
       "      <td>McDonald's</td>\n",
       "      <td>1985-10-30</td>\n",
       "      <td>NYSE</td>\n",
       "      <td>Fast food</td>\n",
       "      <td>MCD</td>\n",
       "    </tr>\n",
       "    <tr>\n",
       "      <th>18</th>\n",
       "      <td>Merck</td>\n",
       "      <td>1979-06-29</td>\n",
       "      <td>NYSE</td>\n",
       "      <td>Pharmaceuticals</td>\n",
       "      <td>MRK</td>\n",
       "    </tr>\n",
       "    <tr>\n",
       "      <th>19</th>\n",
       "      <td>Microsoft</td>\n",
       "      <td>1999-11-01</td>\n",
       "      <td>NASDAQ</td>\n",
       "      <td>Consumer electronics</td>\n",
       "      <td>MSFT</td>\n",
       "    </tr>\n",
       "    <tr>\n",
       "      <th>20</th>\n",
       "      <td>Nike</td>\n",
       "      <td>2013-09-20</td>\n",
       "      <td>NYSE</td>\n",
       "      <td>Apparel</td>\n",
       "      <td>NKE</td>\n",
       "    </tr>\n",
       "    <tr>\n",
       "      <th>21</th>\n",
       "      <td>Pfizer</td>\n",
       "      <td>2004-04-08</td>\n",
       "      <td>NYSE</td>\n",
       "      <td>Pharmaceuticals</td>\n",
       "      <td>PFE</td>\n",
       "    </tr>\n",
       "    <tr>\n",
       "      <th>22</th>\n",
       "      <td>Procter &amp;amp; Gamble</td>\n",
       "      <td>1932-05-26</td>\n",
       "      <td>NYSE</td>\n",
       "      <td>Consumer goods</td>\n",
       "      <td>PG</td>\n",
       "    </tr>\n",
       "    <tr>\n",
       "      <th>23</th>\n",
       "      <td>Travelers</td>\n",
       "      <td>2009-06-08</td>\n",
       "      <td>NYSE</td>\n",
       "      <td>Insurance</td>\n",
       "      <td>TRV</td>\n",
       "    </tr>\n",
       "    <tr>\n",
       "      <th>24</th>\n",
       "      <td>UnitedHealth Group</td>\n",
       "      <td>2012-09-24</td>\n",
       "      <td>NYSE</td>\n",
       "      <td>Managed health care</td>\n",
       "      <td>UNH</td>\n",
       "    </tr>\n",
       "    <tr>\n",
       "      <th>25</th>\n",
       "      <td>United Technologies</td>\n",
       "      <td>1939-03-14</td>\n",
       "      <td>NYSE</td>\n",
       "      <td>Conglomerate</td>\n",
       "      <td>UTX</td>\n",
       "    </tr>\n",
       "    <tr>\n",
       "      <th>26</th>\n",
       "      <td>Verizon</td>\n",
       "      <td>2004-04-08</td>\n",
       "      <td>NYSE</td>\n",
       "      <td>Telecommunication</td>\n",
       "      <td>VZ</td>\n",
       "    </tr>\n",
       "    <tr>\n",
       "      <th>27</th>\n",
       "      <td>Visa</td>\n",
       "      <td>2013-09-20</td>\n",
       "      <td>NYSE</td>\n",
       "      <td>Consumer banking</td>\n",
       "      <td>V</td>\n",
       "    </tr>\n",
       "    <tr>\n",
       "      <th>28</th>\n",
       "      <td>Wal-Mart</td>\n",
       "      <td>1997-03-17</td>\n",
       "      <td>NYSE</td>\n",
       "      <td>Retail</td>\n",
       "      <td>WMT</td>\n",
       "    </tr>\n",
       "    <tr>\n",
       "      <th>29</th>\n",
       "      <td>Walt Disney</td>\n",
       "      <td>1991-05-06</td>\n",
       "      <td>NYSE</td>\n",
       "      <td>Broadcasting</td>\n",
       "      <td>DIS</td>\n",
       "    </tr>\n",
       "  </tbody>\n",
       "</table>\n",
       "</div>"
      ],
      "text/plain": [
       "                  Company  Date Added Exchange              Industry Symbol\n",
       "0                      3M  1976-08-09     NYSE          Conglomerate    MMM\n",
       "1        American Express  1982-08-30     NYSE      Consumer finance    AXP\n",
       "2                   Apple  2015-03-18   NASDAQ  Consumer electronics   AAPL\n",
       "3                  Boeing  1987-03-12     NYSE             Aerospace     BA\n",
       "4             Caterpillar  1991-05-06     NYSE          Construction    CAT\n",
       "5                 Chevron  2008-02-19     NYSE         Oil &amp; gas    CVX\n",
       "6           Cisco Systems  2009-06-08   NASDAQ   Computer networking   CSCO\n",
       "7               Coca-Cola  1987-03-12     NYSE             Beverages     KO\n",
       "8                  DuPont  1935-11-20     NYSE     Chemical industry     DD\n",
       "9              ExxonMobil  1928-10-01     NYSE         Oil &amp; gas    XOM\n",
       "10       General Electric  1907-11-07     NYSE          Conglomerate     GE\n",
       "11          Goldman Sachs  2013-09-20     NYSE               Banking     GS\n",
       "12         The Home Depot  1999-11-01     NYSE      Home improvement     HD\n",
       "13                  Intel  1999-11-01   NASDAQ        Semiconductors   INTC\n",
       "14                    IBM  1979-06-29     NYSE             Computers    IBM\n",
       "15  Johnson &amp; Johnson  1997-03-17     NYSE       Pharmaceuticals    JNJ\n",
       "16         JPMorgan Chase  1991-05-06     NYSE               Banking    JPM\n",
       "17             McDonald's  1985-10-30     NYSE             Fast food    MCD\n",
       "18                  Merck  1979-06-29     NYSE       Pharmaceuticals    MRK\n",
       "19              Microsoft  1999-11-01   NASDAQ  Consumer electronics   MSFT\n",
       "20                   Nike  2013-09-20     NYSE               Apparel    NKE\n",
       "21                 Pfizer  2004-04-08     NYSE       Pharmaceuticals    PFE\n",
       "22   Procter &amp; Gamble  1932-05-26     NYSE        Consumer goods     PG\n",
       "23              Travelers  2009-06-08     NYSE             Insurance    TRV\n",
       "24     UnitedHealth Group  2012-09-24     NYSE   Managed health care    UNH\n",
       "25    United Technologies  1939-03-14     NYSE          Conglomerate    UTX\n",
       "26                Verizon  2004-04-08     NYSE     Telecommunication     VZ\n",
       "27                   Visa  2013-09-20     NYSE      Consumer banking      V\n",
       "28               Wal-Mart  1997-03-17     NYSE                Retail    WMT\n",
       "29            Walt Disney  1991-05-06     NYSE          Broadcasting    DIS"
      ]
     },
     "execution_count": 8,
     "metadata": {},
     "output_type": "execute_result"
    }
   ],
   "source": [
    "dow_jones = pd.DataFrame({header[0]:Company, header[1]:Exchange, header[2]:Symbol,\n",
    "                          header[3]:Industry, header[4]:Date_added})\n",
    "dow_jones"
   ]
  },
  {
   "cell_type": "code",
   "execution_count": 19,
   "metadata": {
    "collapsed": false
   },
   "outputs": [],
   "source": [
    "compy = dow_jones.Company\n",
    "def f(x):\n",
    "    if \"amp;\" in x:\n",
    "        new_x = x.split(\"amp;\")\n",
    "        y = new_x[0]+new_x[1]\n",
    "        return y\n",
    "    else:\n",
    "        return x"
   ]
  },
  {
   "cell_type": "code",
   "execution_count": 38,
   "metadata": {
    "collapsed": false
   },
   "outputs": [
    {
     "ename": "AttributeError",
     "evalue": "'DataFrame' object has no attribute 'Company'",
     "output_type": "error",
     "traceback": [
      "\u001b[0;31m---------------------------------------------------------------------------\u001b[0m",
      "\u001b[0;31mAttributeError\u001b[0m                            Traceback (most recent call last)",
      "\u001b[0;32m<ipython-input-38-701b65f2e7fe>\u001b[0m in \u001b[0;36m<module>\u001b[0;34m()\u001b[0m\n\u001b[0;32m----> 1\u001b[0;31m \u001b[0mdow_jones\u001b[0m\u001b[0;34m.\u001b[0m\u001b[0mCompany\u001b[0m \u001b[0;34m=\u001b[0m \u001b[0mdow_jones\u001b[0m\u001b[0;34m.\u001b[0m\u001b[0mCompany\u001b[0m\u001b[0;34m.\u001b[0m\u001b[0mapply\u001b[0m\u001b[0;34m(\u001b[0m\u001b[0;32mlambda\u001b[0m \u001b[0mx\u001b[0m\u001b[0;34m:\u001b[0m\u001b[0mf\u001b[0m\u001b[0;34m(\u001b[0m\u001b[0mx\u001b[0m\u001b[0;34m)\u001b[0m\u001b[0;34m)\u001b[0m\u001b[0;34m\u001b[0m\u001b[0m\n\u001b[0m\u001b[1;32m      2\u001b[0m \u001b[0mdow_jones\u001b[0m\u001b[0;34m.\u001b[0m\u001b[0mIndustry\u001b[0m \u001b[0;34m=\u001b[0m \u001b[0mdow_jones\u001b[0m\u001b[0;34m.\u001b[0m\u001b[0mIndustry\u001b[0m\u001b[0;34m.\u001b[0m\u001b[0mapply\u001b[0m\u001b[0;34m(\u001b[0m\u001b[0;32mlambda\u001b[0m \u001b[0mx\u001b[0m\u001b[0;34m:\u001b[0m\u001b[0mf\u001b[0m\u001b[0;34m(\u001b[0m\u001b[0mx\u001b[0m\u001b[0;34m)\u001b[0m\u001b[0;34m)\u001b[0m\u001b[0;34m\u001b[0m\u001b[0m\n\u001b[1;32m      3\u001b[0m \u001b[0mdow_jones\u001b[0m\u001b[0;34m.\u001b[0m\u001b[0mset_index\u001b[0m\u001b[0;34m(\u001b[0m\u001b[0mdow_jones\u001b[0m\u001b[0;34m.\u001b[0m\u001b[0mCompany\u001b[0m\u001b[0;34m,\u001b[0m \u001b[0minplace\u001b[0m\u001b[0;34m=\u001b[0m\u001b[0mTrue\u001b[0m\u001b[0;34m)\u001b[0m\u001b[0;34m\u001b[0m\u001b[0m\n\u001b[1;32m      4\u001b[0m \u001b[0;32mdel\u001b[0m \u001b[0mdow_jones\u001b[0m\u001b[0;34m[\u001b[0m\u001b[0;34m\"Company\"\u001b[0m\u001b[0;34m]\u001b[0m\u001b[0;34m\u001b[0m\u001b[0m\n\u001b[1;32m      5\u001b[0m \u001b[0mdow_jones\u001b[0m\u001b[0;34m\u001b[0m\u001b[0m\n",
      "\u001b[0;32m/Users/Baran/anaconda/lib/python2.7/site-packages/pandas/core/generic.pyc\u001b[0m in \u001b[0;36m__getattr__\u001b[0;34m(self, name)\u001b[0m\n\u001b[1;32m   2148\u001b[0m                 \u001b[0;32mreturn\u001b[0m \u001b[0mself\u001b[0m\u001b[0;34m[\u001b[0m\u001b[0mname\u001b[0m\u001b[0;34m]\u001b[0m\u001b[0;34m\u001b[0m\u001b[0m\n\u001b[1;32m   2149\u001b[0m             raise AttributeError(\"'%s' object has no attribute '%s'\" %\n\u001b[0;32m-> 2150\u001b[0;31m                                  (type(self).__name__, name))\n\u001b[0m\u001b[1;32m   2151\u001b[0m \u001b[0;34m\u001b[0m\u001b[0m\n\u001b[1;32m   2152\u001b[0m     \u001b[0;32mdef\u001b[0m \u001b[0m__setattr__\u001b[0m\u001b[0;34m(\u001b[0m\u001b[0mself\u001b[0m\u001b[0;34m,\u001b[0m \u001b[0mname\u001b[0m\u001b[0;34m,\u001b[0m \u001b[0mvalue\u001b[0m\u001b[0;34m)\u001b[0m\u001b[0;34m:\u001b[0m\u001b[0;34m\u001b[0m\u001b[0m\n",
      "\u001b[0;31mAttributeError\u001b[0m: 'DataFrame' object has no attribute 'Company'"
     ]
    }
   ],
   "source": [
    "dow_jones.Company = dow_jones.Company.apply(lambda x:f(x))\n",
    "dow_jones.Industry = dow_jones.Industry.apply(lambda x:f(x))\n",
    "dow_jones.set_index(dow_jones.Company, inplace=True)\n",
    "del dow_jones[\"Company\"]\n",
    "dow_jones"
   ]
  },
  {
   "cell_type": "code",
   "execution_count": 23,
   "metadata": {
    "collapsed": false
   },
   "outputs": [],
   "source": [
    "dow_jones.to_csv('dowjones.csv', index=False)"
   ]
  },
  {
   "cell_type": "code",
   "execution_count": 34,
   "metadata": {
    "collapsed": false
   },
   "outputs": [
    {
     "ename": "TypeError",
     "evalue": "data type not understood",
     "output_type": "error",
     "traceback": [
      "\u001b[0;31m---------------------------------------------------------------------------\u001b[0m",
      "\u001b[0;31mTypeError\u001b[0m                                 Traceback (most recent call last)",
      "\u001b[0;32m<ipython-input-34-381b39ac16dd>\u001b[0m in \u001b[0;36m<module>\u001b[0;34m()\u001b[0m\n\u001b[0;32m----> 1\u001b[0;31m \u001b[0mq\u001b[0m\u001b[0;34m.\u001b[0m\u001b[0mpush\u001b[0m\u001b[0;34m(\u001b[0m\u001b[0mdow_jones\u001b[0m\u001b[0;34m,\u001b[0m \u001b[0mcode\u001b[0m\u001b[0;34m=\u001b[0m\u001b[0;34m\"DOWLST\"\u001b[0m\u001b[0;34m,\u001b[0m \u001b[0mname\u001b[0m\u001b[0;34m=\u001b[0m\u001b[0;34m\"Dow Jones Company List\"\u001b[0m\u001b[0;34m,\u001b[0m \u001b[0mdesc\u001b[0m\u001b[0;34m=\u001b[0m\u001b[0;34m\"Dow Jones Index Company List '10/06/2015'\"\u001b[0m\u001b[0;34m)\u001b[0m\u001b[0;34m\u001b[0m\u001b[0m\n\u001b[0m",
      "\u001b[0;32m/Users/Baran/anaconda/lib/python2.7/site-packages/Quandl/Quandl.pyc\u001b[0m in \u001b[0;36mpush\u001b[0;34m(data, code, name, authtoken, desc, override, verbose, text)\u001b[0m\n\u001b[1;32m    179\u001b[0m \u001b[0;34m\u001b[0m\u001b[0m\n\u001b[1;32m    180\u001b[0m     \u001b[0;31m# check if indexed by date\u001b[0m\u001b[0;34m\u001b[0m\u001b[0;34m\u001b[0m\u001b[0m\n\u001b[0;32m--> 181\u001b[0;31m     \u001b[0mdata_interm\u001b[0m \u001b[0;34m=\u001b[0m \u001b[0mdata\u001b[0m\u001b[0;34m.\u001b[0m\u001b[0mto_records\u001b[0m\u001b[0;34m(\u001b[0m\u001b[0;34m)\u001b[0m\u001b[0;34m\u001b[0m\u001b[0m\n\u001b[0m\u001b[1;32m    182\u001b[0m     \u001b[0mindex\u001b[0m \u001b[0;34m=\u001b[0m \u001b[0mdata_interm\u001b[0m\u001b[0;34m.\u001b[0m\u001b[0mdtype\u001b[0m\u001b[0;34m.\u001b[0m\u001b[0mnames\u001b[0m\u001b[0;34m\u001b[0m\u001b[0m\n\u001b[1;32m    183\u001b[0m     \u001b[0mdatestr\u001b[0m \u001b[0;34m+=\u001b[0m \u001b[0;34m','\u001b[0m\u001b[0;34m.\u001b[0m\u001b[0mjoin\u001b[0m\u001b[0;34m(\u001b[0m\u001b[0mindex\u001b[0m\u001b[0;34m)\u001b[0m \u001b[0;34m+\u001b[0m \u001b[0;34m'\\n'\u001b[0m\u001b[0;34m\u001b[0m\u001b[0m\n",
      "\u001b[0;32m/Users/Baran/anaconda/lib/python2.7/site-packages/pandas/core/frame.pyc\u001b[0m in \u001b[0;36mto_records\u001b[0;34m(self, index, convert_datetime64)\u001b[0m\n\u001b[1;32m    933\u001b[0m             \u001b[0mnames\u001b[0m \u001b[0;34m=\u001b[0m \u001b[0mlmap\u001b[0m\u001b[0;34m(\u001b[0m\u001b[0mstr\u001b[0m\u001b[0;34m,\u001b[0m \u001b[0mself\u001b[0m\u001b[0;34m.\u001b[0m\u001b[0mcolumns\u001b[0m\u001b[0;34m)\u001b[0m\u001b[0;34m\u001b[0m\u001b[0m\n\u001b[1;32m    934\u001b[0m \u001b[0;34m\u001b[0m\u001b[0m\n\u001b[0;32m--> 935\u001b[0;31m         \u001b[0mdtype\u001b[0m \u001b[0;34m=\u001b[0m \u001b[0mnp\u001b[0m\u001b[0;34m.\u001b[0m\u001b[0mdtype\u001b[0m\u001b[0;34m(\u001b[0m\u001b[0;34m[\u001b[0m\u001b[0;34m(\u001b[0m\u001b[0mx\u001b[0m\u001b[0;34m,\u001b[0m \u001b[0mv\u001b[0m\u001b[0;34m.\u001b[0m\u001b[0mdtype\u001b[0m\u001b[0;34m)\u001b[0m \u001b[0;32mfor\u001b[0m \u001b[0mx\u001b[0m\u001b[0;34m,\u001b[0m \u001b[0mv\u001b[0m \u001b[0;32min\u001b[0m \u001b[0mzip\u001b[0m\u001b[0;34m(\u001b[0m\u001b[0mnames\u001b[0m\u001b[0;34m,\u001b[0m \u001b[0marrays\u001b[0m\u001b[0;34m)\u001b[0m\u001b[0;34m]\u001b[0m\u001b[0;34m)\u001b[0m\u001b[0;34m\u001b[0m\u001b[0m\n\u001b[0m\u001b[1;32m    936\u001b[0m         \u001b[0;32mreturn\u001b[0m \u001b[0mnp\u001b[0m\u001b[0;34m.\u001b[0m\u001b[0mrec\u001b[0m\u001b[0;34m.\u001b[0m\u001b[0mfromarrays\u001b[0m\u001b[0;34m(\u001b[0m\u001b[0marrays\u001b[0m\u001b[0;34m,\u001b[0m \u001b[0mdtype\u001b[0m\u001b[0;34m=\u001b[0m\u001b[0mdtype\u001b[0m\u001b[0;34m,\u001b[0m \u001b[0mnames\u001b[0m\u001b[0;34m=\u001b[0m\u001b[0mnames\u001b[0m\u001b[0;34m)\u001b[0m\u001b[0;34m\u001b[0m\u001b[0m\n\u001b[1;32m    937\u001b[0m \u001b[0;34m\u001b[0m\u001b[0m\n",
      "\u001b[0;31mTypeError\u001b[0m: data type not understood"
     ]
    }
   ],
   "source": [
    "q.push(dow_jones, code=\"DOWLST\", name=\"Dow Jones Company List\", desc=\"Dow Jones Index Company List '10/06/2015'\")"
   ]
  },
  {
   "cell_type": "code",
   "execution_count": null,
   "metadata": {
    "collapsed": true
   },
   "outputs": [],
   "source": []
  }
 ],
 "metadata": {
  "kernelspec": {
   "display_name": "Python 2",
   "language": "python",
   "name": "python2"
  },
  "language_info": {
   "codemirror_mode": {
    "name": "ipython",
    "version": 2
   },
   "file_extension": ".py",
   "mimetype": "text/x-python",
   "name": "python",
   "nbconvert_exporter": "python",
   "pygments_lexer": "ipython2",
   "version": "2.7.9"
  }
 },
 "nbformat": 4,
 "nbformat_minor": 0
}
